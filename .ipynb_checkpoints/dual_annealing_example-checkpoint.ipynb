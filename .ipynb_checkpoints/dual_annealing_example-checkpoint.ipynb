{
 "cells": [
  {
   "cell_type": "code",
   "execution_count": null,
   "id": "d676806f",
   "metadata": {},
   "outputs": [],
   "source": [
    "import numpy as np\n",
    "from scipy.optimize import dual_annealing\n",
    "\n",
    "\n",
    "\n",
    "def objetivo(parametros):  # parametros = f(h, vel)\n",
    "    observados = 6 + np.exp(-7*x) + 0.1*np.random.randn(len(x)) # curva de dispersion f(lambda_curve0, c_curve0) x-> lambda_curve0 \n",
    "    teoricos = parametros[0] + np.exp(-parametros[1]*x)        # theoretical_dispersion_curve(c_t, lambda_t)\n",
    "    return np.sqrt(np.sum((teoricos-observados)**2/len(teoricos)))\n",
    "\n",
    "if __name__ == '__main__':\n",
    "    N = 201\n",
    "    x = np.linspace(-1,1,N)\n",
    "    a0 = 3\n",
    "    b0 = 4\n",
    "    lw = [a0-10, b0-10]\n",
    "    up = [a0+10, b0+10]\n",
    "\n",
    "    ret = dual_annealing(objetivo, bounds=list(zip(lw, up)))\n",
    "    print(ret)"
   ]
  }
 ],
 "metadata": {
  "kernelspec": {
   "display_name": "obspy",
   "language": "python",
   "name": "obspy"
  },
  "language_info": {
   "codemirror_mode": {
    "name": "ipython",
    "version": 3
   },
   "file_extension": ".py",
   "mimetype": "text/x-python",
   "name": "python",
   "nbconvert_exporter": "python",
   "pygments_lexer": "ipython3",
   "version": "3.7.13"
  }
 },
 "nbformat": 4,
 "nbformat_minor": 5
}
