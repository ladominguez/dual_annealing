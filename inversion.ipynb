{
 "cells": [
  {
   "cell_type": "code",
   "execution_count": 54,
   "id": "ffcd6535",
   "metadata": {},
   "outputs": [],
   "source": [
    "import masw\n",
    "import numpy as np\n",
    "from matplotlib import pyplot as plt\n",
    "from pylab import rcParams\n",
    "from scipy.optimize import dual_annealing\n",
    "\n",
    "filename    = 'SampleData.dat'\n",
    "HeaderLines = 7\n",
    "fs          = 1000 # Hz\n",
    "N           = 24\n",
    "x1          = 10   # m\n",
    "dx          = 1    # m\n",
    "direction   = 'forward';\n",
    "Amasw       = masw.masw(filename, 1/fs, fs, N, dx, x1, direction, header=6 )\n",
    "\n",
    "f_curve0 = np.array([ 8.33333333,  9.16666667, 10.,         10.83333333, 11.66666667, 12.5,\n",
    " 13.33333333, 14.16666667, 15.,         15.83333333, 16.66666667, 17.5,\n",
    " 18.33333333, 19.16666667, 20.,         20.83333333, 21.66666667, 22.5,\n",
    " 23.33333333, 24.16666667, 25.,         25.83333333, 26.66666667, 27.5,\n",
    " 28.33333333, 29.16666667, 30.,         30.83333333, 31.66666667, 32.5,\n",
    " 33.33333333, 34.16666667, 35.,         35.83333333, 36.66666667, 37.5,\n",
    " 38.33333333, 39.16666667, 40.,         40.83333333])\n",
    "\n",
    "lambda_curve0 = np.array([28.44, 25.30909091, 22, 18.92307692, 17.05714286, 14.96, 13.2, 11.50588235, 10.06666667, 8.52631579, 7.5, 6.74285714, 6.27272727,\n",
    "                      5.68695652, 5.2, 4.848, 4.52307692, 4.13333333, 3.9, 3.72413793, 3.52, 3.36774194, 3.225, 3.09090909, 2.96470588, 2.84571429,\n",
    "                      2.73333333, 2.62702703, 2.49473684, 2.4, 2.31, 2.25365854, 2.2, 2.12093023, 2.07272727, 2, 1.93043478, 1.86382979, 1.825, 1.7877551])\n",
    "c_curve0 = np.array([237, 232, 220, 205, 199, 187, 176, 163, 151, 135, 125, 118, 115, 109, 104, 101, 98, 93, 91, 90, 88, 87, 86, 85, 84, 83, 82, 81, 79,\n",
    "                 78, 77, 77, 77, 76, 76, 75, 74, 73, 73, 73])\n",
    "\n",
    "c_curve0 = c_curve0[0:-12]\n",
    "lambda_curve0 = lambda_curve0[0:-12]\n",
    "\n",
    "#print(c_curve0)\n",
    "\n",
    "c_test_min = 50 #m/s\n",
    "c_test_max = 500 #m/+s\n",
    "delta_c_test = 0.5 #m/s\n",
    "c_test = np.arange(c_test_min, c_test_max + 1, delta_c_test) #m/s\n",
    "c_test = c_test[:-1]\n"
   ]
  },
  {
   "cell_type": "code",
   "execution_count": 55,
   "id": "7fcc334b",
   "metadata": {},
   "outputs": [],
   "source": [
    "#print(np.array(tuple(c_test)))"
   ]
  },
  {
   "cell_type": "code",
   "execution_count": 56,
   "id": "acd67be1",
   "metadata": {},
   "outputs": [
    {
     "data": {
      "image/png": "[encoded data removed]",
      "text/plain": [
       "<Figure size 432x288 with 1 Axes>"
      ]
     },
     "metadata": {
      "needs_background": "light"
     },
     "output_type": "display_data"
    }
   ],
   "source": [
    "plt.plot(c_curve0, lambda_curve0)\n",
    "plt.gca().invert_yaxis()"
   ]
  },
  {
   "cell_type": "code",
   "execution_count": 57,
   "id": "34da1d9b",
   "metadata": {},
   "outputs": [],
   "source": [
    "n = 6\n",
    "alpha = [1440, 1440, 1440, 1440, 1440, 1440, 1440] #m/s\n",
    "h = np.array([1, 1, 2, 2, 4, 5]) #m\n",
    "beta = np.array([75, 90, 150, 180, 240, 290, 290]) #m/s\n",
    "parameters = np.concatenate((h,beta))\n",
    "rho = np.array([1850, 1850, 1850, 1850, 1850, 1850, 1850]) #kg/m^3\n",
    "c_t, lambda_t = Amasw.theoretical_dispersion_curve(c_test, h, alpha, beta, rho, n, lambda_curve0)\n",
    "#c_tX, lambda_tX = Amasw.inversion_func"
   ]
  },
  {
   "cell_type": "code",
   "execution_count": 58,
   "id": "4f19e3b8",
   "metadata": {},
   "outputs": [],
   "source": [
    "def objetive(parameters):\n",
    "    h = parameters[0:n]\n",
    "    beta = parameters[n:]\n",
    "    #beta = parameters\n",
    "    #alpha = np.sqrt(3)*beta\n",
    "    alpha = [1440, 1440, 1440, 1440, 1440, 1440, 1440]\n",
    "    #rho = (alpha + 1870)/3.05\n",
    "    rho = np.array([1850, 1850, 1850, 1850, 1850, 1850, 1850])\n",
    "    c_t, lambda_t = Amasw.theoretical_dispersion_curve(c_test, h, alpha, beta, rho, n, lambda_curve0)\n",
    "    observados = c_curve0\n",
    "    teoricos = np.squeeze(c_t)\n",
    "    return np.sqrt(np.sum((teoricos-observados)**2/len(teoricos)))\n",
    "    "
   ]
  },
  {
   "cell_type": "code",
   "execution_count": 59,
   "id": "9d010e01",
   "metadata": {},
   "outputs": [],
   "source": [
    "error=objetive(parameters)"
   ]
  },
  {
   "cell_type": "code",
   "execution_count": 60,
   "id": "1a80b554",
   "metadata": {},
   "outputs": [
    {
     "data": {
      "image/png": "[encoded data removed]",
      "text/plain": [
       "<Figure size 432x288 with 1 Axes>"
      ]
     },
     "metadata": {
      "needs_background": "light"
     },
     "output_type": "display_data"
    }
   ],
   "source": [
    "plt.plot(c_t, lambda_t)\n",
    "plt.plot(c_curve0, lambda_curve0,'kx')\n",
    "plt.gca().invert_yaxis()"
   ]
  },
  {
   "cell_type": "code",
   "execution_count": 75,
   "id": "dff1b3ed",
   "metadata": {},
   "outputs": [
    {
     "name": "stdout",
     "output_type": "stream",
     "text": [
      "     fun: 1.5612494995995996\n",
      " message: ['Maximum number of function call reached during annealing']\n",
      "    nfev: 10000\n",
      "    nhev: 0\n",
      "     nit: 359\n",
      "    njev: 47\n",
      "  status: 0\n",
      " success: False\n",
      "       x: array([  3.07024782,   6.19661195,   9.0751126 ,   5.51852616,\n",
      "         4.28904387,   5.65254028, 287.11163135, 293.72092479,\n",
      "       289.89455716, 190.85354017,  78.93214888, 185.50383566,\n",
      "       285.70542693])\n"
     ]
    }
   ],
   "source": [
    "lw = [0.5, 0.5, 0.5, 0.5, 0.5, 0.5, 50, 50, 50, 50, 50, 50, 50]\n",
    "up = [10, 10, 10, 10, 10, 10, 300, 300, 300, 300, 300, 300, 300]\n",
    "ret = dual_annealing(objetive, bounds=list(zip(lw, up)),maxfun=10000)\n",
    "print(ret)"
   ]
  },
  {
   "cell_type": "code",
   "execution_count": 76,
   "id": "a4309350",
   "metadata": {},
   "outputs": [
    {
     "name": "stdout",
     "output_type": "stream",
     "text": [
      "[3.07024782 6.19661195 9.0751126  5.51852616 4.28904387 5.65254028]\n",
      "[287.11163135 293.72092479 289.89455716 190.85354017  78.93214888\n",
      " 185.50383566 285.70542693]\n"
     ]
    }
   ],
   "source": [
    "print(ret.x[0:n])\n",
    "print(ret.x[n:])"
   ]
  },
  {
   "cell_type": "code",
   "execution_count": 81,
   "id": "79a7617a",
   "metadata": {},
   "outputs": [
    {
     "data": {
      "image/png": "[encoded data removed]",
      "text/plain": [
       "<Figure size 432x288 with 1 Axes>"
      ]
     },
     "metadata": {
      "needs_background": "light"
     },
     "output_type": "display_data"
    }
   ],
   "source": [
    "h_sol = ret.x[0:n]\n",
    "beta_sol = ret.x[n:]\n",
    "c_sol, lambda_sol = Amasw.theoretical_dispersion_curve(c_test, h_sol, alpha, beta_sol, rho, n, lambda_curve0)\n",
    "plt.plot(c_sol, lambda_sol)\n",
    "plt.plot(c_curve0, lambda_curve0,'kx')\n",
    "plt.gca().invert_yaxis()\n",
    "plt.xlabel('s-wave velocity [m/s]')\n",
    "plt.ylabel('longitud de onda [m]')\n",
    "plt.savefig('ajuste')"
   ]
  },
  {
   "cell_type": "code",
   "execution_count": 79,
   "id": "996ff334",
   "metadata": {},
   "outputs": [
    {
     "data": {
      "image/png": "[encoded data removed]",
      "text/plain": [
       "<Figure size 432x288 with 1 Axes>"
      ]
     },
     "metadata": {
      "needs_background": "light"
     },
     "output_type": "display_data"
    }
   ],
   "source": [
    "depths = np.insert( np.cumsum(h_sol),0,0)\n",
    "depths = np.insert(depths, len(depths),np.max(depths) + 100)\n",
    "plt.stairs(beta_sol,depths,orientation='horizontal', color=[0.8,0.8,0.8], fill=True)\n",
    "plt.stairs(beta_sol,depths,orientation='horizontal', color='k', fill=False)\n",
    "plt.ylim(0,60)\n",
    "plt.xlabel('Velocidad onda S [m/s]')\n",
    "plt.ylabel('Profundiad')\n",
    "plt.gca().invert_yaxis()\n",
    "plt.savefig('perfil.png')\n"
   ]
  },
  {
   "cell_type": "code",
   "execution_count": 47,
   "id": "276d16f1",
   "metadata": {},
   "outputs": [
    {
     "name": "stdout",
     "output_type": "stream",
     "text": [
      "6\n",
      "7\n"
     ]
    }
   ],
   "source": [
    "print(len(h_sol))\n",
    "print(len(beta_sol))"
   ]
  },
  {
   "cell_type": "code",
   "execution_count": null,
   "id": "ab69cb55",
   "metadata": {},
   "outputs": [],
   "source": []
  }
 ],
 "metadata": {
  "kernelspec": {
   "display_name": "obspy",
   "language": "python",
   "name": "obspy"
  },
  "language_info": {
   "codemirror_mode": {
    "name": "ipython",
    "version": 3
   },
   "file_extension": ".py",
   "mimetype": "text/x-python",
   "name": "python",
   "nbconvert_exporter": "python",
   "pygments_lexer": "ipython3",
   "version": "3.8.15"
  }
 },
 "nbformat": 4,
 "nbformat_minor": 5
}
