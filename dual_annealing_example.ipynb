{
 "cells": [
  {
   "cell_type": "code",
   "execution_count": 7,
   "id": "ff90524f",
   "metadata": {},
   "outputs": [
    {
     "name": "stdout",
     "output_type": "stream",
     "text": [
      "     fun: 0.8969322213874928\n",
      " message: ['Maximum number of iteration reached']\n",
      "    nfev: 5171\n",
      "    nhev: 0\n",
      "     nit: 1000\n",
      "    njev: 390\n",
      "  status: 0\n",
      " success: True\n",
      "       x: array([ 8.74013051, 13.9999999 ])\n"
     ]
    }
   ],
   "source": [
    "import numpy as np\n",
    "from scipy.optimize import dual_annealing\n",
    "\n",
    "\n",
    "\n",
    "def objetivo(parametros):  # parametros = f(h, vel)\n",
    "    observados = 9 + np.exp(-14*x) + 1*np.random.randn(len(x)) # curva de dispersion f(lambda_curve0, c_curve0) x-> lambda_curve0 \n",
    "    teoricos = parametros[0] + np.exp(-parametros[1]*x)        # theoretical_dispersion_curve(c_t, lambda_t)\n",
    "    return np.sqrt(np.sum((teoricos-observados)**2/len(teoricos)))\n",
    "\n",
    "if __name__ == '__main__':\n",
    "    N = 201\n",
    "    x = np.linspace(-1,1,N)\n",
    "    a0 = 3\n",
    "    b0 = 4\n",
    "    lw = [a0-100, b0-100]\n",
    "    up = [a0+100, b0+100]\n",
    "\n",
    "    ret = dual_annealing(objetivo, bounds=list(zip(lw, up)),maxfun=10000)\n",
    "    print(ret)"
   ]
  },
  {
   "cell_type": "code",
   "execution_count": null,
   "id": "4992ec66",
   "metadata": {},
   "outputs": [],
   "source": []
  },
  {
   "cell_type": "code",
   "execution_count": null,
   "id": "e9c87ff5",
   "metadata": {},
   "outputs": [],
   "source": []
  }
 ],
 "metadata": {
  "kernelspec": {
   "display_name": "obspy",
   "language": "python",
   "name": "obspy"
  },
  "language_info": {
   "codemirror_mode": {
    "name": "ipython",
    "version": 3
   },
   "file_extension": ".py",
   "mimetype": "text/x-python",
   "name": "python",
   "nbconvert_exporter": "python",
   "pygments_lexer": "ipython3",
   "version": "3.7.13"
  }
 },
 "nbformat": 4,
 "nbformat_minor": 5
}
